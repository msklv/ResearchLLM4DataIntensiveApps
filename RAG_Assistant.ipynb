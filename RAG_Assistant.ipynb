{
  "cells": [
    {
      "cell_type": "markdown",
      "metadata": {
        "id": "aEkgAt982qtk"
      },
      "source": [
        "# RAG асистент"
      ]
    },
    {
      "cell_type": "markdown",
      "metadata": {
        "id": "kNrLF82B4wCg"
      },
      "source": [
        "## Устанавливаем зависимости"
      ]
    },
    {
      "cell_type": "code",
      "execution_count": 1,
      "metadata": {
        "collapsed": true,
        "id": "NmwRH2adhxtA"
      },
      "outputs": [
        {
          "name": "stdout",
          "output_type": "stream",
          "text": [
            "Note: you may need to restart the kernel to use updated packages.\n"
          ]
        }
      ],
      "source": [
        "%pip install -qq langchain langchain-community langchain-qdrant unstructured yandexcloud requests markdown langchain-ollama"
      ]
    },
    {
      "cell_type": "markdown",
      "metadata": {
        "id": "mq58SncZIcqk"
      },
      "source": [
        "## Скачиваем документ"
      ]
    },
    {
      "cell_type": "code",
      "execution_count": 2,
      "metadata": {},
      "outputs": [],
      "source": [
        "#import requests\n",
        "#file_link = \"https://teach-in.ru/file/synopsis/pdf/introduction-to-quantum-physics-lectures-rubtsov-M.pdf\"\n",
        "#response = requests.get(file_link)\n",
        "\n",
        "#if response.status_code == 200:\n",
        "#    print(\"Загрузка прошла успешно)\")\n",
        "#else:\n",
        "#    print(f\"Ошибка [ {response.status_code} ]\")"
      ]
    },
    {
      "cell_type": "markdown",
      "metadata": {
        "id": "dyHbbOsYJyf8"
      },
      "source": [
        "Сохраняем документ на временном диске сессии"
      ]
    },
    {
      "cell_type": "code",
      "execution_count": 3,
      "metadata": {
        "id": "zW1GFD1UKRCJ"
      },
      "outputs": [],
      "source": [
        "# Локальное расположение документа\n",
        "from pathlib import Path\n",
        "file_path = Path(\"introduction-to-quantum-physics-lectures-rubtsov-M.pdf\")"
      ]
    },
    {
      "cell_type": "code",
      "execution_count": 4,
      "metadata": {
        "id": "E_40cYScJxxf"
      },
      "outputs": [],
      "source": [
        "#with open(\"introduction-to-quantum-physics-lectures-rubtsov-M.pdf\", \"w\") as file:\n",
        "#    file.write(response.text)"
      ]
    },
    {
      "cell_type": "markdown",
      "metadata": {
        "id": "aeV7Ff-LGl9q"
      },
      "source": [
        "## Pre-Retrieval"
      ]
    },
    {
      "cell_type": "markdown",
      "metadata": {
        "id": "az1omWFDGuyF"
      },
      "source": [
        "### Чанкование данных"
      ]
    },
    {
      "cell_type": "markdown",
      "metadata": {
        "id": "DTZETwGTJtOV"
      },
      "source": [
        "**Импортируем библиотеки**"
      ]
    },
    {
      "cell_type": "code",
      "execution_count": 6,
      "metadata": {
        "id": "GbWeipv4JdPv"
      },
      "outputs": [],
      "source": [
        "from langchain_community.document_loaders import (\n",
        "    TextLoader,\n",
        "    PyPDFLoader,\n",
        "    Docx2txtLoader,\n",
        "    UnstructuredMarkdownLoader\n",
        ")\n",
        "from langchain_text_splitters import RecursiveCharacterTextSplitter\n",
        "#from langchain.schema import Document"
      ]
    },
    {
      "cell_type": "markdown",
      "metadata": {
        "id": "q_kUiFppKlNs"
      },
      "source": [
        "#### Загрузка документа"
      ]
    },
    {
      "cell_type": "code",
      "execution_count": 7,
      "metadata": {
        "id": "r1_zI_1yKG1a"
      },
      "outputs": [],
      "source": [
        "def get_loader(file_path: Path):\n",
        "    suffix = file_path.suffix.lower()\n",
        "\n",
        "    loaders = {\n",
        "        \".txt\": TextLoader,\n",
        "        \".pdf\": PyPDFLoader,\n",
        "        \".docx\": Docx2txtLoader,\n",
        "        \".md\": UnstructuredMarkdownLoader\n",
        "    }\n",
        "\n",
        "    if suffix not in loaders:\n",
        "        raise ValueError(f\"Неподдерживаемый формат файла: {suffix}\")\n",
        "\n",
        "    return loaders[suffix](file_path)"
      ]
    },
    {
      "cell_type": "markdown",
      "metadata": {
        "id": "NA9GsgzBMlm9"
      },
      "source": [
        "**Загружаем документ**"
      ]
    },
    {
      "cell_type": "code",
      "execution_count": 8,
      "metadata": {
        "collapsed": true,
        "id": "s8JlC85fLKhm"
      },
      "outputs": [],
      "source": [
        "loader = get_loader(file_path)\n",
        "document = loader.load()"
      ]
    },
    {
      "cell_type": "markdown",
      "metadata": {
        "id": "frcw5nbtMqhF"
      },
      "source": [
        "Проверяем корректность загрузки"
      ]
    },
    {
      "cell_type": "code",
      "execution_count": 9,
      "metadata": {
        "colab": {
          "base_uri": "https://localhost:8080/"
        },
        "collapsed": true,
        "id": "j8nLYF6HMXIL",
        "outputId": "97fddc85-a69f-4261-ba24-28cf8ffc3e98"
      },
      "outputs": [
        {
          "name": "stdout",
          "output_type": "stream",
          "text": [
            "{'producer': 'pdfTeX-1.40.21', 'creator': 'LaTeX with hyperref', 'creationdate': '2020-12-22T13:00:30+00:00', 'author': '', 'keywords': '', 'moddate': '2020-12-22T20:59:17+03:00', 'ptex.fullbanner': 'This is pdfTeX, Version 3.14159265-2.6-1.40.21 (TeX Live 2020) kpathsea version 6.3.2', 'subject': '', 'title': '', 'trapped': '/False', 'source': 'introduction-to-quantum-physics-lectures-rubtsov-M.pdf', 'total_pages': 211, 'page': 0, 'page_label': '1'}\n",
            "МЕХАНИКА  • СЛЕПКОВ АЛЕКСАНДР ИВАНОВИЧ\n",
            "КОНСПЕКТ ПОДГОТОВЛЕН СТУДЕНТАМИ, НЕ ПРОХОДИЛ  \n",
            "ПРОФ. РЕДАКТУРУ И МОЖЕТ СОДЕРЖАТЬ ОШИБКИ.  \n",
            "СЛЕДИТЕ ЗА ОБНОВЛЕНИЯМИ НА VK.COM/TEACHINMSU.\n",
            "ВВЕДЕНИЕ В \n",
            "КВАНТОВУЮ ФИЗИКУ \n",
            "РУБЦОВ\n",
            "АЛЕКСЕЙ НИКОЛАЕВМЧ\n",
            "ФИЗФАК МГУ\n",
            "КОНСПЕКТ ПОДГОТОВЛЕН \n",
            "СТУДЕНТАМИ, НЕ ПРОХОДИЛ \n",
            "ПРОФ. РЕДАКТУРУ И МОЖЕТ \n",
            "СОДЕРЖАТЬ ОШИБКИ.  \n",
            "СЛЕДИТЕ ЗА ОБНОВЛЕНИЯМИ \n",
            "НА VK.COM/TEACHINMSU .\n",
            "ЕСЛИ ВЫ ОБНАРУЖИЛИ \n",
            "ОШИБКИ ИЛИ ОПЕЧАТКИ, \n",
            "ТО СООБЩИТЕ ОБ ЭТОМ, \n",
            "НАПИСАВ СООБЩЕСТВУ \n",
            "VK.COM/TEACHINMSU .\n",
            "ФИЗИЧЕСКИЙ  \n",
            "\n"
          ]
        }
      ],
      "source": [
        "print(document[0].metadata)\n",
        "print(document[0].page_content[:500])"
      ]
    },
    {
      "cell_type": "markdown",
      "metadata": {
        "id": "2A6_3BHTK2lv"
      },
      "source": [
        "#### Чанкование"
      ]
    },
    {
      "cell_type": "markdown",
      "metadata": {
        "id": "mITK7yOANxlb"
      },
      "source": [
        "**Конфигурационные параметры**\n",
        "\n",
        "* `chunk_size` - максимальный размер чанка, кол-во символов\n",
        "* `chunk_overlap` - размер перекрытия чанков (нахлёста), кол-во символов"
      ]
    },
    {
      "cell_type": "code",
      "execution_count": 10,
      "metadata": {
        "id": "dy5b0aVRNwqw"
      },
      "outputs": [],
      "source": [
        "chunk_size = 500\n",
        "chunk_overlap = 150"
      ]
    },
    {
      "cell_type": "markdown",
      "metadata": {
        "id": "YT9dSXyTMHLF"
      },
      "source": [
        "**Настройка нарезчика данных на чанки**\n",
        "\n",
        "Будем использовать нарезчик, учитывающий иерархическую структуру документа, т.е. абзаци, главы и т.д."
      ]
    },
    {
      "cell_type": "code",
      "execution_count": 11,
      "metadata": {
        "id": "hdzlcltWNlq1"
      },
      "outputs": [],
      "source": [
        "recursive_character_splitter = RecursiveCharacterTextSplitter(\n",
        "    chunk_size=chunk_size,\n",
        "    chunk_overlap=chunk_overlap\n",
        ")"
      ]
    },
    {
      "cell_type": "markdown",
      "metadata": {
        "id": "Xb7S7_dsOCM4"
      },
      "source": [
        "**Чанкование**"
      ]
    },
    {
      "cell_type": "code",
      "execution_count": 12,
      "metadata": {
        "id": "mcWDVlkOYqey"
      },
      "outputs": [],
      "source": [
        "chunks = recursive_character_splitter.split_documents(document)"
      ]
    },
    {
      "cell_type": "markdown",
      "metadata": {
        "id": "8XZEwd2ePUlM"
      },
      "source": [
        "Проверка корректности чанкования"
      ]
    },
    {
      "cell_type": "code",
      "execution_count": 13,
      "metadata": {
        "colab": {
          "base_uri": "https://localhost:8080/"
        },
        "collapsed": true,
        "id": "txpwfxX5Qdsm",
        "outputId": "ac8df319-13bb-4daf-e6b4-b96c0ba6fe03"
      },
      "outputs": [
        {
          "name": "stdout",
          "output_type": "stream",
          "text": [
            "---[ 4 ]---\n",
            " 1.4 РаботыЭйнштейна.Фотоэффект.Люминесценция.Законыфотоэффекта 11\n",
            "1.5 Ультрафиолетовая катастрофа . . . . . . . . . . . . . . . . . . . . . . . . 14\n",
            "1.6 Неравенства Белла . . . . . . . . . . . . . . . . . . . . . . . . . . . . . . 16\n",
            "1.7 Соотношение классической и квантовой физики . . . . . . . . . . . . . . 16\n",
            "1.8 Атомная система единиц. Фундаментальные константы . . . . . . . . . 17\n",
            "2 Лекция 2. Корпускулярные и волновые свойства света 19\n",
            "---[ 5 ]---\n",
            " 1.8 Атомная система единиц. Фундаментальные константы . . . . . . . . . 17\n",
            "2 Лекция 2. Корпускулярные и волновые свойства света 19\n",
            "2.1 История физики. Энергия и импульс релятивистских частиц. Эффект\n",
            "Комптона . . . . . . . . . . . . . . . . . . . . . . . . . . . . . . . . . . . . 19\n",
            "2.2 Волновые свойства света. Опыт Юнга-Френеля . . . . . . . . . . . . . . 23\n",
            "2.3 Опыт Винера. Стоячие волны . . . . . . . . . . . . . . . . . . . . . . . . 24\n"
          ]
        }
      ],
      "source": [
        "starting_chunk = 4 # Начальный чанк\n",
        "count_chunks = 2 # Количество выводимых чанков\n",
        "\n",
        "for i, chunk in enumerate(chunks[starting_chunk:starting_chunk + count_chunks]):\n",
        "    print(f'---[ {i + starting_chunk} ]---\\n {chunk.page_content}')"
      ]
    },
    {
      "cell_type": "markdown",
      "metadata": {
        "id": "ytOjitXGWfSJ"
      },
      "source": [
        "## Retrieval"
      ]
    },
    {
      "cell_type": "markdown",
      "metadata": {
        "id": "LOMoBgiOPiBj"
      },
      "source": [
        "**Импорт библиотек**"
      ]
    },
    {
      "cell_type": "code",
      "execution_count": 14,
      "metadata": {
        "id": "Zj2bgynwA-3e"
      },
      "outputs": [],
      "source": [
        "from qdrant_client import QdrantClient\n",
        "from qdrant_client.http.models import Distance, VectorParams\n",
        "from langchain_qdrant.qdrant import QdrantVectorStore\n",
        "\n",
        "#from langchain_community.embeddings import YandexGPTEmbeddings\n",
        "#from langchain_community.embeddings import OllamaEmbeddings\n",
        "from langchain_ollama import OllamaEmbeddings\n"
      ]
    },
    {
      "cell_type": "markdown",
      "metadata": {
        "id": "NNX-K7kg44gH"
      },
      "source": [
        "### Развёртывание векторной БД"
      ]
    },
    {
      "cell_type": "markdown",
      "metadata": {
        "id": "VPPhg3PPPlSL"
      },
      "source": [
        "**Конфигурационные параметры**\n",
        "\n",
        "* `collection_name` - наименование коллекции в БД, в которой будут храниться загруженные данные.\n",
        "* `vector_size` - количество значений в векторном представлении, его длина. У используемых эмбеддинговых моделей от Яндекса максимальная длина 256, поэтому здесь также её придерживаемся.\n",
        "* `distance` - метрика для определения расстояния между векторами. Лучше представлять, как обыкновенное расстояние между точками в пространстве."
      ]
    },
    {
      "cell_type": "code",
      "execution_count": 15,
      "metadata": {
        "id": "ZbplorbQA1dk"
      },
      "outputs": [],
      "source": [
        "collection_name = \"physics_collection\"\n",
        "vector_size = 1024     # Размер векторов, возможно стоит прейти на более маленькую размерность - 256     \n",
        "distance = 'Cosine'"
      ]
    },
    {
      "cell_type": "markdown",
      "metadata": {},
      "source": [
        "Загружаем переменные окружения из файла .env"
      ]
    },
    {
      "cell_type": "code",
      "execution_count": 17,
      "metadata": {
        "id": "OSpHr41hV2ek"
      },
      "outputs": [],
      "source": [
        "from dotenv import load_dotenv\n",
        "import os\n",
        "\n",
        "load_dotenv()\n",
        "\n",
        "QDRANT_URL = os.getenv(\"QDRANT_URL\")\n",
        "#QDRANT_API_KEY = os.getenv(\"QDRANT_API_KEY\")\n",
        "#YANDEX_API_KEY = os.getenv(\"YANDEX_API_KEY\")\n",
        "#YANDEX_FOLDER_ID = os.getenv(\"YANDEX_FOLDER_ID\")"
      ]
    },
    {
      "cell_type": "markdown",
      "metadata": {
        "id": "FL9Ox7JyBK1S"
      },
      "source": [
        "**Подключению к векторной БД**"
      ]
    },
    {
      "cell_type": "code",
      "execution_count": 18,
      "metadata": {
        "id": "VodAXAQnAbkL"
      },
      "outputs": [],
      "source": [
        "qdrant_client = QdrantClient(\n",
        "    url=QDRANT_URL,\n",
        "    #api_key=QDRANT_API_KEY,  # Если есть токен, например в  Qdrant Cloud\n",
        ")"
      ]
    },
    {
      "cell_type": "markdown",
      "metadata": {
        "id": "U0xWE4zRCxlp"
      },
      "source": [
        "**Создание коллекции данных в кластере**"
      ]
    },
    {
      "cell_type": "markdown",
      "metadata": {
        "id": "r9LrxPROit-f"
      },
      "source": [
        "Создание коллекции"
      ]
    },
    {
      "cell_type": "code",
      "execution_count": 19,
      "metadata": {
        "id": "3OlHhAicYJLZ"
      },
      "outputs": [],
      "source": [
        "if collection_name not in [collection.name for collection in qdrant_client.get_collections().collections]:\n",
        "    qdrant_client.create_collection(\n",
        "    collection_name=collection_name,\n",
        "    vectors_config=VectorParams(\n",
        "        size=vector_size,\n",
        "        distance=Distance(distance)\n",
        "    )\n",
        ")"
      ]
    },
    {
      "cell_type": "markdown",
      "metadata": {
        "id": "fCQf2v7TEld-"
      },
      "source": [
        "**Создание векторного хранилища**\n",
        "\n",
        "Для создания эмбедингов будем использовать модель YandexGPTEmbeddings"
      ]
    },
    {
      "cell_type": "code",
      "execution_count": null,
      "metadata": {
        "id": "1w92IUGyFBCp"
      },
      "outputs": [],
      "source": [
        "# Загрузка модели для создания эмбеддингов через YandexGPT\n",
        "#yandex_embedding = YandexGPTEmbeddings(\n",
        "#    api_key=YANDEX_API_KEY,\n",
        "#    folder_id=YANDEX_FOLDER_ID\n",
        "#)\n",
        "\n",
        "# Загрузка модели для создания эмбеддингов через  Ollama\n",
        "local_embedding = OllamaEmbeddings(\n",
        "    model=\"mxbai-embed-large\",\n",
        "    base_url=\"http://127.0.0.1:11434\" \n",
        ")\n"
      ]
    },
    {
      "cell_type": "code",
      "execution_count": 21,
      "metadata": {},
      "outputs": [],
      "source": [
        "# Инициализация векторного хранилища\n",
        "vector_store = QdrantVectorStore(\n",
        "    client=qdrant_client,\n",
        "    collection_name=collection_name,\n",
        "    #embedding=yandex_embedding\n",
        "    embedding=local_embedding\n",
        ")"
      ]
    },
    {
      "cell_type": "markdown",
      "metadata": {
        "id": "QGXji4UwRpXj"
      },
      "source": [
        "### Добавление базы знаний в векторную БД"
      ]
    },
    {
      "cell_type": "markdown",
      "metadata": {
        "id": "_k-81oCOR_UV"
      },
      "source": [
        "#### Принцип работы модели для создания эмбеддингов"
      ]
    },
    {
      "cell_type": "markdown",
      "metadata": {
        "id": "mjeW19ClTAaH"
      },
      "source": [
        "Искомый текст:"
      ]
    },
    {
      "cell_type": "code",
      "execution_count": 31,
      "metadata": {
        "colab": {
          "base_uri": "https://localhost:8080/"
        },
        "id": "fAFQ_TEJSJH7",
        "outputId": "6d3bb517-7681-40ea-d6b2-d7dac9b755ff"
      },
      "outputs": [
        {
          "name": "stdout",
          "output_type": "stream",
          "text": [
            "атомной физики, для описания каких-то субатомных по шкале масштабов процессов\n",
            "естественно необходимо ввести какую-то систему единиц, в которой этой неприятно-\n",
            "сти не будет. Иногда постоянную Планка пишут вместо¯h2 ¯h´2 или наоборот ¯h это\n",
            "10´27, поэтому ¯h2 вместо ¯h´2 это 104 порядка лишних, физикам сразу хочется, что-\n",
            "то сделать с лишним порядком. Поэтому если считать в атомной системе единиц, то\n",
            "конечно хотя бы таких казусов не будет.\n"
          ]
        }
      ],
      "source": [
        "text = chunks[100].page_content  # Текст из 100 чанка страницы\n",
        "print(text)"
      ]
    },
    {
      "cell_type": "markdown",
      "metadata": {
        "id": "lMOSMZ-7TDmW"
      },
      "source": [
        "Текст преобразованный в эмбеддинг (векторное представление):"
      ]
    },
    {
      "cell_type": "code",
      "execution_count": 55,
      "metadata": {
        "colab": {
          "base_uri": "https://localhost:8080/"
        },
        "id": "uA86FJn1SGa7",
        "outputId": "ee1c172b-4545-469c-fc97-36b1c26ea9bb"
      },
      "outputs": [
        {
          "name": "stdout",
          "output_type": "stream",
          "text": [
            "[-0.008481814, 0.016389186, -0.009079622, 0.029147211, -0.025374198, 0.01527201, -0.00016501374, -0.0014643716, 0.024831874, 0.02323621]\n"
          ]
        }
      ],
      "source": [
        "result = local_embedding.embed_query(text)\n",
        "print(result[:10])  # Выводим первые 10 элементов "
      ]
    },
    {
      "cell_type": "markdown",
      "metadata": {
        "id": "3FJHDD9rTT89"
      },
      "source": [
        "**Добавляем чанки в векторную БД**"
      ]
    },
    {
      "cell_type": "code",
      "execution_count": 56,
      "metadata": {
        "colab": {
          "base_uri": "https://localhost:8080/",
          "height": 829
        },
        "id": "8_V8Y4hMTj3v",
        "outputId": "3cc69c4b-3b52-4fb9-96da-e739c79f30c6"
      },
      "outputs": [
        {
          "name": "stdout",
          "output_type": "stream",
          "text": [
            "['7cef2c0318dd41fabc8cae115b34d5e2', 'f02393fa1f524b839789e0e20aa62993', '6de605647d3f45928d08dc0bcca8aec9', '6791430660a741258e828dfe61eb2f08', 'bd25e3083d7342f8b16f5af796801e45', '1289833f90e2488581d3a584c15be7e6', 'b642fee4c3f540418207296b32d670e8', 'bd10c745e9164bcaa5faf4bbf300f9c2', '697ed49d0bdb4d5d8a91123fecf9509d', '1db3355b60e24340b7488854d5cb74c5']\n"
          ]
        }
      ],
      "source": [
        "result = vector_store.add_documents(chunks) \n",
        "print(result[:10])  # Выводим первые 10 элементов "
      ]
    },
    {
      "cell_type": "markdown",
      "metadata": {
        "id": "HT-q8oyoUfaN"
      },
      "source": [
        "#### Поиск в векторной БД"
      ]
    },
    {
      "cell_type": "markdown",
      "metadata": {
        "id": "2Q6sEK-Yl9Ex"
      },
      "source": [
        "**Конфигурационные параметры**\n",
        "\n",
        "* `k` - максимальное количетсво возвращаемых валидных чанков. Другими словами - это топ `k` самых близких к запросу чанков.\n",
        "* `query` - пользовательский запрос."
      ]
    },
    {
      "cell_type": "code",
      "execution_count": 37,
      "metadata": {
        "id": "NkJ8LufIU1G2"
      },
      "outputs": [],
      "source": [
        "k = 5\n",
        "#query = \"Перескажи в кратце о чём говорится в предисловии к изданию.\"\n",
        "query = \"Кратко перескажи о чём говорится в Лекции 3.\"\n"
      ]
    },
    {
      "cell_type": "markdown",
      "metadata": {
        "id": "kEDBK0FbnSkO"
      },
      "source": [
        "**Поиск валидных чанков**"
      ]
    },
    {
      "cell_type": "code",
      "execution_count": 38,
      "metadata": {
        "id": "_ttB9q93Uop2"
      },
      "outputs": [],
      "source": [
        "searching_chunks = vector_store.similarity_search(\n",
        "    query=query,\n",
        "    k=k\n",
        ")"
      ]
    },
    {
      "cell_type": "markdown",
      "metadata": {
        "id": "EHSWhU1enfX4"
      },
      "source": [
        "Топ `k` наиболее близких к запросу чанков"
      ]
    },
    {
      "cell_type": "code",
      "execution_count": 39,
      "metadata": {
        "id": "LZ3ZOPjoVXOw"
      },
      "outputs": [
        {
          "name": "stdout",
          "output_type": "stream",
          "text": [
            "1. 3 Лекция 3. Корпускулярно-волновой дуализм. Строение атома 36\n",
            "3.1 Модель Томсона . . . . . . . . . . . . . . . . . . . . . . . . . . . . . . . . 36\n",
            "3.2 Описание Бора . . . . . . . . . . . . . . . . . . . . . . . . . . . . . . . . . 38\n",
            "3.3 Описание Де-Бройля . . . . . . . . . . . . . . . . . . . . . . . . . . . . . 40\n",
            "4 Лекция 4. Частица в потенциальной яме 51\n",
            "4.1 Уравнение Шредингера . . . . . . . . . . . . . . . . . . . . . . . . . . . . 51\n",
            "2. 3 Лекция 3. Корпускулярно-волновой дуализм. Строение атома 36\n",
            "3.1 Модель Томсона . . . . . . . . . . . . . . . . . . . . . . . . . . . . . . . . 36\n",
            "3.2 Описание Бора . . . . . . . . . . . . . . . . . . . . . . . . . . . . . . . . . 38\n",
            "3.3 Описание Де-Бройля . . . . . . . . . . . . . . . . . . . . . . . . . . . . . 40\n",
            "4 Лекция 4. Частица в потенциальной яме 51\n",
            "4.1 Уравнение Шредингера . . . . . . . . . . . . . . . . . . . . . . . . . . . . 51\n",
            "3. 3 Лекция 3. Корпускулярно-волновой дуализм. Строение атома 36\n",
            "3.1 Модель Томсона . . . . . . . . . . . . . . . . . . . . . . . . . . . . . . . . 36\n",
            "3.2 Описание Бора . . . . . . . . . . . . . . . . . . . . . . . . . . . . . . . . . 38\n",
            "3.3 Описание Де-Бройля . . . . . . . . . . . . . . . . . . . . . . . . . . . . . 40\n",
            "4 Лекция 4. Частица в потенциальной яме 51\n",
            "4.1 Уравнение Шредингера . . . . . . . . . . . . . . . . . . . . . . . . . . . . 51\n",
            "4. 3 Лекция 3. Корпускулярно-волновой дуализм. Строение атома 36\n",
            "3.1 Модель Томсона . . . . . . . . . . . . . . . . . . . . . . . . . . . . . . . . 36\n",
            "3.2 Описание Бора . . . . . . . . . . . . . . . . . . . . . . . . . . . . . . . . . 38\n",
            "3.3 Описание Де-Бройля . . . . . . . . . . . . . . . . . . . . . . . . . . . . . 40\n",
            "4 Лекция 4. Частица в потенциальной яме 51\n",
            "4.1 Уравнение Шредингера . . . . . . . . . . . . . . . . . . . . . . . . . . . . 51\n",
            "5. разогретых парах стали лития или если порошок лития посыпать на огонь. Литий,\n",
            "как известно, окрашивает пламя в розовато-красный цвет, что является характер-\n",
            "ный цветом красного спектра. Что касается натрия, переход происходит3p в 3S. Все\n",
            "происходит тоже самое, но энергия перехода больше. Натрий окрашивает пламя в\n",
            "ярко желтый цвет, что является характерный цветом желтого спектра. То есть есть\n",
            "122\n"
          ]
        }
      ],
      "source": [
        "for i, searching_chunk in enumerate(searching_chunks):\n",
        "    print(f'{i + 1}. {searching_chunk.page_content}')"
      ]
    },
    {
      "cell_type": "markdown",
      "metadata": {
        "id": "xidmNBXsWxyq"
      },
      "source": [
        "## Generative"
      ]
    },
    {
      "cell_type": "markdown",
      "metadata": {
        "id": "ZdBojGnQoCEM"
      },
      "source": [
        "**Импорт библиотек**"
      ]
    },
    {
      "cell_type": "code",
      "execution_count": 40,
      "metadata": {
        "id": "9ra4YzNKXYqy"
      },
      "outputs": [],
      "source": [
        "from langchain_core.prompts import ChatPromptTemplate\n",
        "#from langchain_community.llms import YandexGPT\n",
        "from langchain_community.llms.ollama import Ollama\n",
        "\n",
        "from langchain.chains import create_retrieval_chain\n",
        "from langchain.chains.combine_documents import create_stuff_documents_chain"
      ]
    },
    {
      "cell_type": "markdown",
      "metadata": {
        "id": "TBR1HQdtYOia"
      },
      "source": [
        "**Конфигурационные параметры**\n",
        "* `model_name` - наименование модели\n",
        "* `temperature` - температура - отвечает за степень галлюционирования модели, т.е. добавления в ответы несвязных данных, выбросов и т.д. Данный параметр примимает занчения в промежутке `[0, 1]`\n",
        "* `max_tokens` - максимальное количество токенов, доступных для полного цикла работы модели, т.е. сумма колличества токенов из входного запроса плюс - в ответе. Обыно у моделей данный параметр может принимать различные максимумы, поэтому необходимо читать документацию конкретного экземпляра."
      ]
    },
    {
      "cell_type": "code",
      "execution_count": 41,
      "metadata": {
        "id": "7hjNk-3yXWsC"
      },
      "outputs": [],
      "source": [
        "#model_name = 'yandexgpt'\n",
        "model = \"gemma3:12b-it-q4_K_M\"\n",
        "temperature = 0.7\n",
        "base_url=\"http://127.0.0.1:11434\"\n",
        "#max_tokens = 8000\n"
      ]
    },
    {
      "cell_type": "markdown",
      "metadata": {
        "id": "z6z1vCp7YI4t"
      },
      "source": [
        "**Загрузка LLM**\n",
        "\n"
      ]
    },
    {
      "cell_type": "code",
      "execution_count": 43,
      "metadata": {
        "id": "Zj1cVBywW41L"
      },
      "outputs": [],
      "source": [
        "OllamaGPT = Ollama(\n",
        "    #api_key=YANDEX_API_KEY,\n",
        "    #folder_id=YANDEX_FOLDER_ID,\n",
        "    base_url=base_url,\n",
        "    model=model,\n",
        "    temperature=temperature,\n",
        "    #max_tokens=max_tokens\n",
        ")"
      ]
    },
    {
      "cell_type": "markdown",
      "metadata": {
        "id": "XgdZbMX7YS2b"
      },
      "source": [
        "**Создание шаблона запроса**"
      ]
    },
    {
      "cell_type": "code",
      "execution_count": 44,
      "metadata": {
        "id": "PtzR1l9_JXCH"
      },
      "outputs": [],
      "source": [
        "system_prompt =\"\"\"\n",
        "**Роль**\n",
        "Ты — Физик с большим стажем, который пишет объяснения студентам и не любит долгих разговоров.\n",
        "\n",
        "**Инструкции**\n",
        "1. Используй приведённый контекст для ответа на вопрос.\n",
        "2. Если ты не можешь найти ответ в контексте, так и скажи: 'В документе отсутствуют данные для формирования ответа.', не пытайся придумать ответ.\n",
        "3. Твои высказывания должны быть связными по смыслу и чётко доносить мысль из контекста.\n",
        "4. Сфомируй ответ простым текстом, не более 10-20 слов.\n",
        "\n",
        "**Контекст**\n",
        "{context}\n",
        "\"\"\""
      ]
    },
    {
      "cell_type": "code",
      "execution_count": 45,
      "metadata": {
        "id": "YHMhf63aJ3hf"
      },
      "outputs": [],
      "source": [
        "prompt = ChatPromptTemplate.from_messages(\n",
        "    [\n",
        "        ('system', system_prompt),\n",
        "        ('human', '{input}')\n",
        "    ]\n",
        ")"
      ]
    },
    {
      "cell_type": "markdown",
      "metadata": {
        "id": "AtoGlEGTYmNw"
      },
      "source": [
        "**Финализация RAG pipeline`а**"
      ]
    },
    {
      "cell_type": "code",
      "execution_count": 46,
      "metadata": {
        "id": "850XaJfRavFF"
      },
      "outputs": [],
      "source": [
        "question_answer_chain = create_stuff_documents_chain(\n",
        "    OllamaGPT,\n",
        "    prompt\n",
        ")\n",
        "\n",
        "chain = create_retrieval_chain(\n",
        "    vector_store.as_retriever(),\n",
        "    question_answer_chain\n",
        ")"
      ]
    },
    {
      "cell_type": "markdown",
      "metadata": {
        "id": "FmOmY8ehZa7w"
      },
      "source": [
        "Отправляем запрос:"
      ]
    },
    {
      "cell_type": "code",
      "execution_count": 47,
      "metadata": {
        "colab": {
          "base_uri": "https://localhost:8080/"
        },
        "id": "ZZ3j-269ZqQK",
        "outputId": "18cec9a7-1740-4f28-8b94-7858e7e8285d"
      },
      "outputs": [
        {
          "name": "stdout",
          "output_type": "stream",
          "text": [
            "Кратко перескажи о чём говорится в Лекции 3.\n"
          ]
        }
      ],
      "source": [
        "print(query)"
      ]
    },
    {
      "cell_type": "code",
      "execution_count": 48,
      "metadata": {
        "id": "ygEJ3moWIuAX"
      },
      "outputs": [],
      "source": [
        "answer = chain.invoke({\"input\": query})"
      ]
    },
    {
      "cell_type": "code",
      "execution_count": 49,
      "metadata": {
        "colab": {
          "base_uri": "https://localhost:8080/"
        },
        "id": "nhHHudSURe_h",
        "outputId": "8fcac684-4600-44f4-df12-2f8d3a3a5e1d"
      },
      "outputs": [
        {
          "name": "stdout",
          "output_type": "stream",
          "text": [
            "Лекция 3 посвящена корпускулярно-волновому дуализму и строению атома, включая модели Томсона, Бора и Де-Бройля.\n"
          ]
        }
      ],
      "source": [
        "print(answer[\"answer\"])"
      ]
    },
    {
      "cell_type": "markdown",
      "metadata": {
        "id": "7icduNy1TA2l"
      },
      "source": [
        "### Общение с RAG-ассистентом"
      ]
    },
    {
      "cell_type": "code",
      "execution_count": 50,
      "metadata": {
        "id": "z1ZU8DxiTL_g"
      },
      "outputs": [],
      "source": [
        "def get_answer(query):\n",
        "    k = 20\n",
        "\n",
        "    searching_chunks = vector_store.similarity_search(\n",
        "        query=query,\n",
        "        k=k\n",
        "    )\n",
        "\n",
        "    system_prompt =\"\"\"\n",
        "        **Роль**\n",
        "        Ты — DevOps с большим стажем, который недавно написал документацию и не любит долгих разговоров.\n",
        "\n",
        "        **Инструкции**\n",
        "        1. Используй приведённый контекст для ответа на вопрос.\n",
        "        2. Если ты не можешь найти ответ в контексте, так и скажи: 'В документе отсутствуют данные для формирования ответа.', не пытайся придумать ответ.\n",
        "        3. Твои высказывания должны быть связными по смыслу и чётко доносить мысль из контекста.\n",
        "\n",
        "        **Контекст**\n",
        "        {context}\n",
        "    \"\"\"\n",
        "\n",
        "    prompt = ChatPromptTemplate.from_messages(\n",
        "        [\n",
        "            ('system', system_prompt),\n",
        "            ('human', '{input}')\n",
        "        ]\n",
        "    )\n",
        "\n",
        "    question_answer_chain = create_stuff_documents_chain(\n",
        "        OllamaGPT,\n",
        "        prompt\n",
        "    )\n",
        "\n",
        "    chain = create_retrieval_chain(\n",
        "        vector_store.as_retriever(),\n",
        "        question_answer_chain\n",
        "    )\n",
        "\n",
        "    answer = chain.invoke({\"input\": query})\n",
        "\n",
        "    return answer[\"answer\"]"
      ]
    },
    {
      "cell_type": "markdown",
      "metadata": {
        "id": "smjJJbO-U0zT"
      },
      "source": [
        "**Примеры**"
      ]
    },
    {
      "cell_type": "code",
      "execution_count": 51,
      "metadata": {
        "id": "72JYf-aNT2EJ"
      },
      "outputs": [
        {
          "name": "stdout",
          "output_type": "stream",
          "text": [
            "Цель книги - объяснить разницу между пояснением и формулой при решении задач о движении двух связанных частиц. Ответ известен из классической механики и не меняется в квантовом случае.\n"
          ]
        }
      ],
      "source": [
        "query = \"В чём цель данной книги?\"\n",
        "print(get_answer(query))"
      ]
    },
    {
      "cell_type": "code",
      "execution_count": 52,
      "metadata": {},
      "outputs": [
        {
          "name": "stdout",
          "output_type": "stream",
          "text": [
            "Книга написана для студентов, изучающих \"Введение в квантовую физику\" у Рубцова Алексея Николаевича. Конспект подготовлен студентами и не проходил профессиональную редактуру. Следите за обновлениями на VK.COM/TEACHINMSU.\n",
            "\n"
          ]
        }
      ],
      "source": [
        "query = \"Для кого написана данная книга?\"\n",
        "print(get_answer(query))"
      ]
    },
    {
      "cell_type": "code",
      "execution_count": 53,
      "metadata": {
        "id": "xYXERbXtU-f3"
      },
      "outputs": [
        {
          "name": "stdout",
          "output_type": "stream",
          "text": [
            "В документе отсутствуют данные для формирования ответа.\n"
          ]
        }
      ],
      "source": [
        "query = \"Какие были предпосылки к появлению DevOps, как профессии?\"\n",
        "print(get_answer(query))"
      ]
    },
    {
      "cell_type": "code",
      "execution_count": 54,
      "metadata": {},
      "outputs": [
        {
          "name": "stdout",
          "output_type": "stream",
          "text": [
            "Волновая функция — это функция координат и времени. Физическим смыслом обладают не все её составляющие, общая фаза волновой функции не отражает наблюдаемые величины и не имеет прямого физического смысла.\n"
          ]
        }
      ],
      "source": [
        "query = \"Что отражает волновая функция?\"\n",
        "print(get_answer(query))"
      ]
    }
  ],
  "metadata": {
    "colab": {
      "gpuType": "T4",
      "provenance": []
    },
    "kernelspec": {
      "display_name": "rag_env",
      "language": "python",
      "name": "python3"
    },
    "language_info": {
      "codemirror_mode": {
        "name": "ipython",
        "version": 3
      },
      "file_extension": ".py",
      "mimetype": "text/x-python",
      "name": "python",
      "nbconvert_exporter": "python",
      "pygments_lexer": "ipython3",
      "version": "3.13.3"
    }
  },
  "nbformat": 4,
  "nbformat_minor": 0
}
