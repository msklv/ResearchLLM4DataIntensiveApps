{
  "cells": [
    {
      "cell_type": "markdown",
      "metadata": {
        "id": "aEkgAt982qtk"
      },
      "source": [
        "# RAG асистент"
      ]
    },
    {
      "cell_type": "markdown",
      "metadata": {
        "id": "kNrLF82B4wCg"
      },
      "source": [
        "## Устанавливаем зависимости"
      ]
    },
    {
      "cell_type": "code",
      "execution_count": 5,
      "metadata": {
        "collapsed": true,
        "id": "NmwRH2adhxtA"
      },
      "outputs": [
        {
          "name": "stdout",
          "output_type": "stream",
          "text": [
            "Note: you may need to restart the kernel to use updated packages.\n"
          ]
        }
      ],
      "source": [
        "%pip install -qq langchain langchain-community langchain-qdrant unstructured yandexcloud requests markdown"
      ]
    },
    {
      "cell_type": "markdown",
      "metadata": {
        "id": "mq58SncZIcqk"
      },
      "source": [
        "## Скачиваем документ"
      ]
    },
    {
      "cell_type": "code",
      "execution_count": 6,
      "metadata": {
        "colab": {
          "base_uri": "https://localhost:8080/"
        },
        "id": "HN5G_S2tI-D3",
        "outputId": "ee9b9b95-9345-4f8c-cf5d-a23c50ec3da7"
      },
      "outputs": [
        {
          "name": "stdout",
          "output_type": "stream",
          "text": [
            "Загрузка прошла успешно)\n"
          ]
        }
      ],
      "source": [
        "import requests\n",
        "from pathlib import Path\n",
        "\n",
        "file_link = \"https://drive.usercontent.google.com/u/0/uc?id=14LJNTuDM35kGjjpc79VaOFRBPV1ZvKJI&export=download\"\n",
        "\n",
        "response = requests.get(file_link)\n",
        "\n",
        "if response.status_code == 200:\n",
        "    print(\"Загрузка прошла успешно)\")\n",
        "else:\n",
        "    print(f\"Ошибка [ {response.status_code} ]\")"
      ]
    },
    {
      "cell_type": "markdown",
      "metadata": {
        "id": "dyHbbOsYJyf8"
      },
      "source": [
        "Сохраняем документ на временном диске сессии"
      ]
    },
    {
      "cell_type": "code",
      "execution_count": 7,
      "metadata": {
        "id": "zW1GFD1UKRCJ"
      },
      "outputs": [],
      "source": [
        "# Локальное расположение документа\n",
        "file_path = Path('devops_book.md')"
      ]
    },
    {
      "cell_type": "code",
      "execution_count": 8,
      "metadata": {
        "id": "E_40cYScJxxf"
      },
      "outputs": [],
      "source": [
        "with open(\"devops_book.md\", \"w\") as file:\n",
        "    file.write(response.text)"
      ]
    },
    {
      "cell_type": "markdown",
      "metadata": {
        "id": "aeV7Ff-LGl9q"
      },
      "source": [
        "## Pre-Retrieval"
      ]
    },
    {
      "cell_type": "markdown",
      "metadata": {
        "id": "az1omWFDGuyF"
      },
      "source": [
        "### Чанкование данных"
      ]
    },
    {
      "cell_type": "markdown",
      "metadata": {
        "id": "DTZETwGTJtOV"
      },
      "source": [
        "**Импортируем библиотеки**"
      ]
    },
    {
      "cell_type": "code",
      "execution_count": 9,
      "metadata": {
        "id": "GbWeipv4JdPv"
      },
      "outputs": [],
      "source": [
        "from langchain_community.document_loaders import (\n",
        "    TextLoader,\n",
        "    PyPDFLoader,\n",
        "    Docx2txtLoader,\n",
        "    UnstructuredMarkdownLoader\n",
        ")\n",
        "from langchain_text_splitters import RecursiveCharacterTextSplitter\n",
        "from langchain.schema import Document"
      ]
    },
    {
      "cell_type": "markdown",
      "metadata": {
        "id": "q_kUiFppKlNs"
      },
      "source": [
        "#### Загрузка документа"
      ]
    },
    {
      "cell_type": "code",
      "execution_count": 10,
      "metadata": {
        "id": "r1_zI_1yKG1a"
      },
      "outputs": [],
      "source": [
        "def get_loader(file_path: Path):\n",
        "    suffix = file_path.suffix.lower()\n",
        "\n",
        "    loaders = {\n",
        "        \".txt\": TextLoader,\n",
        "        \".pdf\": PyPDFLoader,\n",
        "        \".docx\": Docx2txtLoader,\n",
        "        \".md\": UnstructuredMarkdownLoader\n",
        "    }\n",
        "\n",
        "    if suffix not in loaders:\n",
        "        raise ValueError(f\"Неподдерживаемый формат файла: {suffix}\")\n",
        "\n",
        "    return loaders[suffix](file_path)"
      ]
    },
    {
      "cell_type": "markdown",
      "metadata": {
        "id": "NA9GsgzBMlm9"
      },
      "source": [
        "**Загружаем документ**"
      ]
    },
    {
      "cell_type": "code",
      "execution_count": 11,
      "metadata": {
        "collapsed": true,
        "id": "s8JlC85fLKhm"
      },
      "outputs": [],
      "source": [
        "loader = get_loader(file_path)\n",
        "document = loader.load()"
      ]
    },
    {
      "cell_type": "markdown",
      "metadata": {
        "id": "frcw5nbtMqhF"
      },
      "source": [
        "Проверяем корректность загрузки"
      ]
    },
    {
      "cell_type": "code",
      "execution_count": 32,
      "metadata": {
        "colab": {
          "base_uri": "https://localhost:8080/"
        },
        "collapsed": true,
        "id": "j8nLYF6HMXIL",
        "outputId": "97fddc85-a69f-4261-ba24-28cf8ffc3e98"
      },
      "outputs": [
        {
          "name": "stdout",
          "output_type": "stream",
          "text": [
            "{'source': 'devops_book.md'}\n",
            "Научный редактор Николай Корытко Издано с разрешения IT Revolution Press LCC c/o Fletcher & Company и Andrew Nurnberg Associates International Ltd c/o Z AO \"Andrew Nurnberg Literary Agency\" На русском языке публикуется впервые Благодари м за помощь в подготовке издания Артема Каличкина, Дмитрия Зайцева, Михаи ла Чинкова, Виталия Рыбникова, Дениса Иванова, Валерия Пи лия, Дмитрия Малыхина, Сергея Малютина, А лександра Титова, Дениса Рыбака, Евгения Овчинцева, А лексея К ли мова, Игоря Авдеева Ким\n"
          ]
        }
      ],
      "source": [
        "print(document[0].metadata)\n",
        "print(document[0].page_content[:500])"
      ]
    },
    {
      "cell_type": "markdown",
      "metadata": {
        "id": "2A6_3BHTK2lv"
      },
      "source": [
        "#### Чанкование"
      ]
    },
    {
      "cell_type": "markdown",
      "metadata": {
        "id": "mITK7yOANxlb"
      },
      "source": [
        "**Конфигурационные параметры**\n",
        "\n",
        "* `chunk_size` - максимальный размер чанка, кол-во символов\n",
        "* `chunk_overlap` - размер перекрытия чанков (нахлёста), кол-во символов"
      ]
    },
    {
      "cell_type": "code",
      "execution_count": 33,
      "metadata": {
        "id": "dy5b0aVRNwqw"
      },
      "outputs": [],
      "source": [
        "chunk_size = 1000\n",
        "chunk_overlap = 500"
      ]
    },
    {
      "cell_type": "markdown",
      "metadata": {
        "id": "YT9dSXyTMHLF"
      },
      "source": [
        "**Настройка нарезчика данных на чанки**\n",
        "\n",
        "Будем использовать нарезчик, учитывающий иерархическую структуру документа, т.е. абзаци, главы и т.д."
      ]
    },
    {
      "cell_type": "code",
      "execution_count": 34,
      "metadata": {
        "id": "hdzlcltWNlq1"
      },
      "outputs": [],
      "source": [
        "recursive_character_splitter = RecursiveCharacterTextSplitter(\n",
        "    chunk_size=chunk_size,\n",
        "    chunk_overlap=chunk_overlap\n",
        ")"
      ]
    },
    {
      "cell_type": "markdown",
      "metadata": {
        "id": "Xb7S7_dsOCM4"
      },
      "source": [
        "**Чанкование**"
      ]
    },
    {
      "cell_type": "code",
      "execution_count": 15,
      "metadata": {
        "id": "mcWDVlkOYqey"
      },
      "outputs": [],
      "source": [
        "chunks = recursive_character_splitter.split_documents(document)"
      ]
    },
    {
      "cell_type": "markdown",
      "metadata": {
        "id": "8XZEwd2ePUlM"
      },
      "source": [
        "Проверка корректности чанкования"
      ]
    },
    {
      "cell_type": "code",
      "execution_count": 16,
      "metadata": {
        "colab": {
          "base_uri": "https://localhost:8080/"
        },
        "collapsed": true,
        "id": "txpwfxX5Qdsm",
        "outputId": "ac8df319-13bb-4daf-e6b4-b96c0ba6fe03"
      },
      "outputs": [
        {
          "name": "stdout",
          "output_type": "stream",
          "text": [
            "---[ 4 ]---\n",
            " Часть I «Три пути» Введение ..................................................................................... 49\n",
            "\n",
            "Глава 1 Agile, непрерывная поставка и «три пути» .......................... 55\n",
            "\n",
            "Глава 2 Первый путь: принципы потока ........................................... 64\n",
            "\n",
            "Глава 3 Второй путь: принципы обратной связи............................ 80\n",
            "\n",
            "Глава 4 Третий путь: принципы непрерывного обучения и экспериментирования ..................................... 92\n",
            "\n",
            "Часть II Откуда начать Введение ..................................................................................... 109\n",
            "\n",
            "Глава 5 Как выбрать стартовый поток создания ценности ......... 111\n",
            "\n",
            "Глава 6 Основные сведения о работе в потоке создания ценности, превращении его в прозрачный и расширении на всю организацию .................................. 124\n",
            "\n",
            "Глава 7 Как проектировать организацию и ее архитектуру, не забывая о законе Конвея ................................................... 144\n",
            "---[ 5 ]---\n",
            " Часть II Откуда начать Введение ..................................................................................... 109\n",
            "\n",
            "Глава 5 Как выбрать стартовый поток создания ценности ......... 111\n",
            "\n",
            "Глава 6 Основные сведения о работе в потоке создания ценности, превращении его в прозрачный и расширении на всю организацию .................................. 124\n",
            "\n",
            "Глава 7 Как проектировать организацию и ее архитектуру, не забывая о законе Конвея ................................................... 144\n",
            "\n",
            "Глава 8 Как получить лучшие результаты, интегрируя эксплуатацию в повседневную деятельность разработчиков .......................................................................... 168\n",
            "\n",
            "Часть III Технические практики потоков создания ценности Введение ..................................................................................... 185\n",
            "\n",
            "Глава 9 Создание основы конвейера внедрения ............................ 187\n"
          ]
        }
      ],
      "source": [
        "starting_chunk = 4 # Начальный чанк\n",
        "count_chunks = 2 # Количество выводимых чанков\n",
        "\n",
        "for i, chunk in enumerate(chunks[starting_chunk:starting_chunk + count_chunks]):\n",
        "    print(f'---[ {i + starting_chunk} ]---\\n {chunk.page_content}')"
      ]
    },
    {
      "cell_type": "markdown",
      "metadata": {
        "id": "ytOjitXGWfSJ"
      },
      "source": [
        "## Retrieval"
      ]
    },
    {
      "cell_type": "markdown",
      "metadata": {
        "id": "LOMoBgiOPiBj"
      },
      "source": [
        "**Импорт библиотек**"
      ]
    },
    {
      "cell_type": "code",
      "execution_count": 17,
      "metadata": {
        "id": "Zj2bgynwA-3e"
      },
      "outputs": [],
      "source": [
        "from qdrant_client import QdrantClient\n",
        "from qdrant_client.http.models import Distance, VectorParams\n",
        "from langchain_qdrant.qdrant import QdrantVectorStore\n",
        "\n",
        "from langchain_community.embeddings import YandexGPTEmbeddings\n",
        "\n",
        "#from google.colab import userdata"
      ]
    },
    {
      "cell_type": "markdown",
      "metadata": {
        "id": "NNX-K7kg44gH"
      },
      "source": [
        "### Развёртывание векторной БД"
      ]
    },
    {
      "cell_type": "markdown",
      "metadata": {
        "id": "VPPhg3PPPlSL"
      },
      "source": [
        "**Конфигурационные параметры**\n",
        "\n",
        "* `collection_name` - наименование коллекции в БД, в которой будут храниться загруженные данные.\n",
        "* `vector_size` - количество значений в векторном представлении, его длина. У используемых эмбеддинговых моделей от Яндекса максимальная длина 256, поэтому здесь также её придерживаемся.\n",
        "* `distance` - метрика для определения расстояния между векторами. Лучше представлять, как обыкновенное расстояние между точками в пространстве."
      ]
    },
    {
      "cell_type": "code",
      "execution_count": 18,
      "metadata": {
        "id": "ZbplorbQA1dk"
      },
      "outputs": [],
      "source": [
        "collection_name = \"devopsconf_collection\"\n",
        "vector_size = 256\n",
        "distance = 'Cosine'"
      ]
    },
    {
      "cell_type": "code",
      "execution_count": 26,
      "metadata": {
        "id": "OSpHr41hV2ek"
      },
      "outputs": [],
      "source": [
        "from dotenv import load_dotenv\n",
        "import os\n",
        "\n",
        "load_dotenv()\n",
        "\n",
        "QDRANT_URL = os.getenv(\"QDRANT_URL\")\n",
        "QDRANT_API_KEY = os.getenv(\"QDRANT_API_KEY\")\n",
        "\n",
        "YANDEX_API_KEY = os.getenv(\"YANDEX_API_KEY\")\n",
        "YANDEX_FOLDER_ID = os.getenv(\"YANDEX_FOLDER_ID\")"
      ]
    },
    {
      "cell_type": "markdown",
      "metadata": {
        "id": "FL9Ox7JyBK1S"
      },
      "source": [
        "**Подключению к облачному кластеру**"
      ]
    },
    {
      "cell_type": "code",
      "execution_count": 28,
      "metadata": {
        "id": "VodAXAQnAbkL"
      },
      "outputs": [],
      "source": [
        "qdrant_client = QdrantClient(\n",
        "    url=QDRANT_URL,\n",
        "    api_key=QDRANT_API_KEY,\n",
        ")"
      ]
    },
    {
      "cell_type": "markdown",
      "metadata": {
        "id": "U0xWE4zRCxlp"
      },
      "source": [
        "**Создание коллекции данных в кластере**"
      ]
    },
    {
      "cell_type": "markdown",
      "metadata": {
        "id": "r9LrxPROit-f"
      },
      "source": [
        "Создание коллекции"
      ]
    },
    {
      "cell_type": "code",
      "execution_count": 29,
      "metadata": {
        "id": "3OlHhAicYJLZ"
      },
      "outputs": [],
      "source": [
        "if collection_name not in [collection.name for collection in qdrant_client.get_collections().collections]:\n",
        "    qdrant_client.create_collection(\n",
        "    collection_name=collection_name,\n",
        "    vectors_config=VectorParams(\n",
        "        size=vector_size,\n",
        "        distance=Distance(distance)\n",
        "    )\n",
        ")"
      ]
    },
    {
      "cell_type": "markdown",
      "metadata": {
        "id": "fCQf2v7TEld-"
      },
      "source": [
        "**Создание векторного хранилища**\n",
        "\n",
        "Для создания эмбедингов будем использовать модель YandexGPTEmbeddings"
      ]
    },
    {
      "cell_type": "code",
      "execution_count": 30,
      "metadata": {
        "id": "1w92IUGyFBCp"
      },
      "outputs": [
        {
          "name": "stderr",
          "output_type": "stream",
          "text": [
            "Retrying langchain_community.embeddings.yandex._embed_with_retry.<locals>._completion_with_retry in 1.0 seconds as it raised _InactiveRpcError: <_InactiveRpcError of RPC that terminated with:\n",
            "\tstatus = StatusCode.UNAUTHENTICATED\n",
            "\tdetails = \"Unknown api key 'AQVN****NRfM (BDAB17FB)'\"\n",
            "\tdebug_error_string = \"UNKNOWN:Error received from peer ipv4:158.160.54.160:443 {grpc_message:\"Unknown api key \\'AQVN****NRfM (BDAB17FB)\\'\", grpc_status:16, created_time:\"2025-04-13T13:55:59.417365+02:00\"}\"\n",
            ">.\n",
            "Retrying langchain_community.embeddings.yandex._embed_with_retry.<locals>._completion_with_retry in 2.0 seconds as it raised _InactiveRpcError: <_InactiveRpcError of RPC that terminated with:\n",
            "\tstatus = StatusCode.UNAUTHENTICATED\n",
            "\tdetails = \"Unknown api key 'AQVN****NRfM (BDAB17FB)'\"\n",
            "\tdebug_error_string = \"UNKNOWN:Error received from peer ipv4:158.160.54.160:443 {grpc_message:\"Unknown api key \\'AQVN****NRfM (BDAB17FB)\\'\", grpc_status:16, created_time:\"2025-04-13T13:56:01.18113+02:00\"}\"\n",
            ">.\n",
            "Retrying langchain_community.embeddings.yandex._embed_with_retry.<locals>._completion_with_retry in 4.0 seconds as it raised _InactiveRpcError: <_InactiveRpcError of RPC that terminated with:\n",
            "\tstatus = StatusCode.UNAUTHENTICATED\n",
            "\tdetails = \"Unknown api key 'AQVN****NRfM (BDAB17FB)'\"\n",
            "\tdebug_error_string = \"UNKNOWN:Error received from peer ipv4:158.160.54.160:443 {created_time:\"2025-04-13T13:56:03.902151+02:00\", grpc_status:16, grpc_message:\"Unknown api key \\'AQVN****NRfM (BDAB17FB)\\'\"}\"\n",
            ">.\n",
            "Retrying langchain_community.embeddings.yandex._embed_with_retry.<locals>._completion_with_retry in 8.0 seconds as it raised _InactiveRpcError: <_InactiveRpcError of RPC that terminated with:\n",
            "\tstatus = StatusCode.UNAUTHENTICATED\n",
            "\tdetails = \"Unknown api key 'AQVN****NRfM (BDAB17FB)'\"\n",
            "\tdebug_error_string = \"UNKNOWN:Error received from peer ipv4:158.160.54.160:443 {created_time:\"2025-04-13T13:56:08.63787+02:00\", grpc_status:16, grpc_message:\"Unknown api key \\'AQVN****NRfM (BDAB17FB)\\'\"}\"\n",
            ">.\n",
            "Retrying langchain_community.embeddings.yandex._embed_with_retry.<locals>._completion_with_retry in 16.0 seconds as it raised _InactiveRpcError: <_InactiveRpcError of RPC that terminated with:\n",
            "\tstatus = StatusCode.UNAUTHENTICATED\n",
            "\tdetails = \"Unknown api key 'AQVN****NRfM (BDAB17FB)'\"\n",
            "\tdebug_error_string = \"UNKNOWN:Error received from peer ipv4:158.160.54.160:443 {created_time:\"2025-04-13T13:56:17.359161+02:00\", grpc_status:16, grpc_message:\"Unknown api key \\'AQVN****NRfM (BDAB17FB)\\'\"}\"\n",
            ">.\n"
          ]
        },
        {
          "ename": "_InactiveRpcError",
          "evalue": "<_InactiveRpcError of RPC that terminated with:\n\tstatus = StatusCode.UNAUTHENTICATED\n\tdetails = \"Unknown api key 'AQVN****NRfM (BDAB17FB)'\"\n\tdebug_error_string = \"UNKNOWN:Error received from peer ipv4:158.160.54.160:443 {created_time:\"2025-04-13T13:56:34.068812+02:00\", grpc_status:16, grpc_message:\"Unknown api key \\'AQVN****NRfM (BDAB17FB)\\'\"}\"\n>",
          "output_type": "error",
          "traceback": [
            "\u001b[31m---------------------------------------------------------------------------\u001b[39m",
            "\u001b[31m_InactiveRpcError\u001b[39m                         Traceback (most recent call last)",
            "\u001b[36mCell\u001b[39m\u001b[36m \u001b[39m\u001b[32mIn[30]\u001b[39m\u001b[32m, line 8\u001b[39m\n\u001b[32m      2\u001b[39m yandex_embedding = YandexGPTEmbeddings(\n\u001b[32m      3\u001b[39m     api_key=YANDEX_API_KEY,\n\u001b[32m      4\u001b[39m     folder_id=YANDEX_FOLDER_ID\n\u001b[32m      5\u001b[39m )\n\u001b[32m      7\u001b[39m \u001b[38;5;66;03m# Инициализация векторного хранилища\u001b[39;00m\n\u001b[32m----> \u001b[39m\u001b[32m8\u001b[39m vector_store = \u001b[43mQdrantVectorStore\u001b[49m\u001b[43m(\u001b[49m\n\u001b[32m      9\u001b[39m \u001b[43m    \u001b[49m\u001b[43mclient\u001b[49m\u001b[43m=\u001b[49m\u001b[43mqdrant_client\u001b[49m\u001b[43m,\u001b[49m\n\u001b[32m     10\u001b[39m \u001b[43m    \u001b[49m\u001b[43mcollection_name\u001b[49m\u001b[43m=\u001b[49m\u001b[43mcollection_name\u001b[49m\u001b[43m,\u001b[49m\n\u001b[32m     11\u001b[39m \u001b[43m    \u001b[49m\u001b[43membedding\u001b[49m\u001b[43m=\u001b[49m\u001b[43myandex_embedding\u001b[49m\n\u001b[32m     12\u001b[39m \u001b[43m)\u001b[49m\n",
            "\u001b[36mFile \u001b[39m\u001b[32m~/git/assistant_with_rag/rag_env/lib/python3.13/site-packages/langchain_qdrant/qdrant.py:213\u001b[39m, in \u001b[36mQdrantVectorStore.__init__\u001b[39m\u001b[34m(self, client, collection_name, embedding, retrieval_mode, vector_name, content_payload_key, metadata_payload_key, distance, sparse_embedding, sparse_vector_name, validate_embeddings, validate_collection_config)\u001b[39m\n\u001b[32m    210\u001b[39m     \u001b[38;5;28mself\u001b[39m._validate_embeddings(retrieval_mode, embedding, sparse_embedding)\n\u001b[32m    212\u001b[39m \u001b[38;5;28;01mif\u001b[39;00m validate_collection_config:\n\u001b[32m--> \u001b[39m\u001b[32m213\u001b[39m     \u001b[38;5;28;43mself\u001b[39;49m\u001b[43m.\u001b[49m\u001b[43m_validate_collection_config\u001b[49m\u001b[43m(\u001b[49m\n\u001b[32m    214\u001b[39m \u001b[43m        \u001b[49m\u001b[43mclient\u001b[49m\u001b[43m,\u001b[49m\n\u001b[32m    215\u001b[39m \u001b[43m        \u001b[49m\u001b[43mcollection_name\u001b[49m\u001b[43m,\u001b[49m\n\u001b[32m    216\u001b[39m \u001b[43m        \u001b[49m\u001b[43mretrieval_mode\u001b[49m\u001b[43m,\u001b[49m\n\u001b[32m    217\u001b[39m \u001b[43m        \u001b[49m\u001b[43mvector_name\u001b[49m\u001b[43m,\u001b[49m\n\u001b[32m    218\u001b[39m \u001b[43m        \u001b[49m\u001b[43msparse_vector_name\u001b[49m\u001b[43m,\u001b[49m\n\u001b[32m    219\u001b[39m \u001b[43m        \u001b[49m\u001b[43mdistance\u001b[49m\u001b[43m,\u001b[49m\n\u001b[32m    220\u001b[39m \u001b[43m        \u001b[49m\u001b[43membedding\u001b[49m\u001b[43m,\u001b[49m\n\u001b[32m    221\u001b[39m \u001b[43m    \u001b[49m\u001b[43m)\u001b[49m\n\u001b[32m    223\u001b[39m \u001b[38;5;28mself\u001b[39m._client = client\n\u001b[32m    224\u001b[39m \u001b[38;5;28mself\u001b[39m.collection_name = collection_name\n",
            "\u001b[36mFile \u001b[39m\u001b[32m~/git/assistant_with_rag/rag_env/lib/python3.13/site-packages/langchain_qdrant/qdrant.py:1050\u001b[39m, in \u001b[36mQdrantVectorStore._validate_collection_config\u001b[39m\u001b[34m(cls, client, collection_name, retrieval_mode, vector_name, sparse_vector_name, distance, embedding)\u001b[39m\n\u001b[32m   1038\u001b[39m \u001b[38;5;129m@classmethod\u001b[39m\n\u001b[32m   1039\u001b[39m \u001b[38;5;28;01mdef\u001b[39;00m\u001b[38;5;250m \u001b[39m\u001b[34m_validate_collection_config\u001b[39m(\n\u001b[32m   1040\u001b[39m     \u001b[38;5;28mcls\u001b[39m: Type[QdrantVectorStore],\n\u001b[32m   (...)\u001b[39m\u001b[32m   1047\u001b[39m     embedding: Optional[Embeddings],\n\u001b[32m   1048\u001b[39m ) -> \u001b[38;5;28;01mNone\u001b[39;00m:\n\u001b[32m   1049\u001b[39m     \u001b[38;5;28;01mif\u001b[39;00m retrieval_mode == RetrievalMode.DENSE:\n\u001b[32m-> \u001b[39m\u001b[32m1050\u001b[39m         \u001b[38;5;28;43mcls\u001b[39;49m\u001b[43m.\u001b[49m\u001b[43m_validate_collection_for_dense\u001b[49m\u001b[43m(\u001b[49m\n\u001b[32m   1051\u001b[39m \u001b[43m            \u001b[49m\u001b[43mclient\u001b[49m\u001b[43m,\u001b[49m\u001b[43m \u001b[49m\u001b[43mcollection_name\u001b[49m\u001b[43m,\u001b[49m\u001b[43m \u001b[49m\u001b[43mvector_name\u001b[49m\u001b[43m,\u001b[49m\u001b[43m \u001b[49m\u001b[43mdistance\u001b[49m\u001b[43m,\u001b[49m\u001b[43m \u001b[49m\u001b[43membedding\u001b[49m\n\u001b[32m   1052\u001b[39m \u001b[43m        \u001b[49m\u001b[43m)\u001b[49m\n\u001b[32m   1054\u001b[39m     \u001b[38;5;28;01melif\u001b[39;00m retrieval_mode == RetrievalMode.SPARSE:\n\u001b[32m   1055\u001b[39m         \u001b[38;5;28mcls\u001b[39m._validate_collection_for_sparse(\n\u001b[32m   1056\u001b[39m             client, collection_name, sparse_vector_name\n\u001b[32m   1057\u001b[39m         )\n",
            "\u001b[36mFile \u001b[39m\u001b[32m~/git/assistant_with_rag/rag_env/lib/python3.13/site-packages/langchain_qdrant/qdrant.py:1109\u001b[39m, in \u001b[36mQdrantVectorStore._validate_collection_for_dense\u001b[39m\u001b[34m(cls, client, collection_name, vector_name, distance, dense_embeddings)\u001b[39m\n\u001b[32m   1106\u001b[39m \u001b[38;5;28;01massert\u001b[39;00m vector_config \u001b[38;5;129;01mis\u001b[39;00m \u001b[38;5;129;01mnot\u001b[39;00m \u001b[38;5;28;01mNone\u001b[39;00m, \u001b[33m\"\u001b[39m\u001b[33mVectorParams is None\u001b[39m\u001b[33m\"\u001b[39m\n\u001b[32m   1108\u001b[39m \u001b[38;5;28;01mif\u001b[39;00m \u001b[38;5;28misinstance\u001b[39m(dense_embeddings, Embeddings):\n\u001b[32m-> \u001b[39m\u001b[32m1109\u001b[39m     vector_size = \u001b[38;5;28mlen\u001b[39m(\u001b[43mdense_embeddings\u001b[49m\u001b[43m.\u001b[49m\u001b[43membed_documents\u001b[49m\u001b[43m(\u001b[49m\u001b[43m[\u001b[49m\u001b[33;43m\"\u001b[39;49m\u001b[33;43mdummy_text\u001b[39;49m\u001b[33;43m\"\u001b[39;49m\u001b[43m]\u001b[49m\u001b[43m)\u001b[49m[\u001b[32m0\u001b[39m])\n\u001b[32m   1110\u001b[39m \u001b[38;5;28;01melif\u001b[39;00m \u001b[38;5;28misinstance\u001b[39m(dense_embeddings, \u001b[38;5;28mlist\u001b[39m):\n\u001b[32m   1111\u001b[39m     vector_size = \u001b[38;5;28mlen\u001b[39m(dense_embeddings)\n",
            "\u001b[36mFile \u001b[39m\u001b[32m~/git/assistant_with_rag/rag_env/lib/python3.13/site-packages/langchain_community/embeddings/yandex.py:134\u001b[39m, in \u001b[36mYandexGPTEmbeddings.embed_documents\u001b[39m\u001b[34m(self, texts)\u001b[39m\n\u001b[32m    124\u001b[39m \u001b[38;5;28;01mdef\u001b[39;00m\u001b[38;5;250m \u001b[39m\u001b[34membed_documents\u001b[39m(\u001b[38;5;28mself\u001b[39m, texts: List[\u001b[38;5;28mstr\u001b[39m]) -> List[List[\u001b[38;5;28mfloat\u001b[39m]]:\n\u001b[32m    125\u001b[39m \u001b[38;5;250m    \u001b[39m\u001b[33;03m\"\"\"Embed documents using a YandexGPT embeddings models.\u001b[39;00m\n\u001b[32m    126\u001b[39m \n\u001b[32m    127\u001b[39m \u001b[33;03m    Args:\u001b[39;00m\n\u001b[32m   (...)\u001b[39m\u001b[32m    131\u001b[39m \u001b[33;03m        List of embeddings, one for each text.\u001b[39;00m\n\u001b[32m    132\u001b[39m \u001b[33;03m    \"\"\"\u001b[39;00m\n\u001b[32m--> \u001b[39m\u001b[32m134\u001b[39m     \u001b[38;5;28;01mreturn\u001b[39;00m \u001b[43m_embed_with_retry\u001b[49m\u001b[43m(\u001b[49m\u001b[38;5;28;43mself\u001b[39;49m\u001b[43m,\u001b[49m\u001b[43m \u001b[49m\u001b[43mtexts\u001b[49m\u001b[43m=\u001b[49m\u001b[43mtexts\u001b[49m\u001b[43m)\u001b[49m\n",
            "\u001b[36mFile \u001b[39m\u001b[32m~/git/assistant_with_rag/rag_env/lib/python3.13/site-packages/langchain_community/embeddings/yandex.py:170\u001b[39m, in \u001b[36m_embed_with_retry\u001b[39m\u001b[34m(llm, **kwargs)\u001b[39m\n\u001b[32m    166\u001b[39m \u001b[38;5;129m@retry_decorator\u001b[39m\n\u001b[32m    167\u001b[39m \u001b[38;5;28;01mdef\u001b[39;00m\u001b[38;5;250m \u001b[39m\u001b[34m_completion_with_retry\u001b[39m(**_kwargs: Any) -> Any:\n\u001b[32m    168\u001b[39m     \u001b[38;5;28;01mreturn\u001b[39;00m _make_request(llm, **_kwargs)\n\u001b[32m--> \u001b[39m\u001b[32m170\u001b[39m \u001b[38;5;28;01mreturn\u001b[39;00m \u001b[43m_completion_with_retry\u001b[49m\u001b[43m(\u001b[49m\u001b[43m*\u001b[49m\u001b[43m*\u001b[49m\u001b[43mkwargs\u001b[49m\u001b[43m)\u001b[49m\n",
            "\u001b[36mFile \u001b[39m\u001b[32m~/git/assistant_with_rag/rag_env/lib/python3.13/site-packages/tenacity/__init__.py:338\u001b[39m, in \u001b[36mBaseRetrying.wraps.<locals>.wrapped_f\u001b[39m\u001b[34m(*args, **kw)\u001b[39m\n\u001b[32m    336\u001b[39m copy = \u001b[38;5;28mself\u001b[39m.copy()\n\u001b[32m    337\u001b[39m wrapped_f.statistics = copy.statistics  \u001b[38;5;66;03m# type: ignore[attr-defined]\u001b[39;00m\n\u001b[32m--> \u001b[39m\u001b[32m338\u001b[39m \u001b[38;5;28;01mreturn\u001b[39;00m \u001b[43mcopy\u001b[49m\u001b[43m(\u001b[49m\u001b[43mf\u001b[49m\u001b[43m,\u001b[49m\u001b[43m \u001b[49m\u001b[43m*\u001b[49m\u001b[43margs\u001b[49m\u001b[43m,\u001b[49m\u001b[43m \u001b[49m\u001b[43m*\u001b[49m\u001b[43m*\u001b[49m\u001b[43mkw\u001b[49m\u001b[43m)\u001b[49m\n",
            "\u001b[36mFile \u001b[39m\u001b[32m~/git/assistant_with_rag/rag_env/lib/python3.13/site-packages/tenacity/__init__.py:477\u001b[39m, in \u001b[36mRetrying.__call__\u001b[39m\u001b[34m(self, fn, *args, **kwargs)\u001b[39m\n\u001b[32m    475\u001b[39m retry_state = RetryCallState(retry_object=\u001b[38;5;28mself\u001b[39m, fn=fn, args=args, kwargs=kwargs)\n\u001b[32m    476\u001b[39m \u001b[38;5;28;01mwhile\u001b[39;00m \u001b[38;5;28;01mTrue\u001b[39;00m:\n\u001b[32m--> \u001b[39m\u001b[32m477\u001b[39m     do = \u001b[38;5;28;43mself\u001b[39;49m\u001b[43m.\u001b[49m\u001b[43miter\u001b[49m\u001b[43m(\u001b[49m\u001b[43mretry_state\u001b[49m\u001b[43m=\u001b[49m\u001b[43mretry_state\u001b[49m\u001b[43m)\u001b[49m\n\u001b[32m    478\u001b[39m     \u001b[38;5;28;01mif\u001b[39;00m \u001b[38;5;28misinstance\u001b[39m(do, DoAttempt):\n\u001b[32m    479\u001b[39m         \u001b[38;5;28;01mtry\u001b[39;00m:\n",
            "\u001b[36mFile \u001b[39m\u001b[32m~/git/assistant_with_rag/rag_env/lib/python3.13/site-packages/tenacity/__init__.py:378\u001b[39m, in \u001b[36mBaseRetrying.iter\u001b[39m\u001b[34m(self, retry_state)\u001b[39m\n\u001b[32m    376\u001b[39m result = \u001b[38;5;28;01mNone\u001b[39;00m\n\u001b[32m    377\u001b[39m \u001b[38;5;28;01mfor\u001b[39;00m action \u001b[38;5;129;01min\u001b[39;00m \u001b[38;5;28mself\u001b[39m.iter_state.actions:\n\u001b[32m--> \u001b[39m\u001b[32m378\u001b[39m     result = \u001b[43maction\u001b[49m\u001b[43m(\u001b[49m\u001b[43mretry_state\u001b[49m\u001b[43m)\u001b[49m\n\u001b[32m    379\u001b[39m \u001b[38;5;28;01mreturn\u001b[39;00m result\n",
            "\u001b[36mFile \u001b[39m\u001b[32m~/git/assistant_with_rag/rag_env/lib/python3.13/site-packages/tenacity/__init__.py:420\u001b[39m, in \u001b[36mBaseRetrying._post_stop_check_actions.<locals>.exc_check\u001b[39m\u001b[34m(rs)\u001b[39m\n\u001b[32m    418\u001b[39m retry_exc = \u001b[38;5;28mself\u001b[39m.retry_error_cls(fut)\n\u001b[32m    419\u001b[39m \u001b[38;5;28;01mif\u001b[39;00m \u001b[38;5;28mself\u001b[39m.reraise:\n\u001b[32m--> \u001b[39m\u001b[32m420\u001b[39m     \u001b[38;5;28;01mraise\u001b[39;00m \u001b[43mretry_exc\u001b[49m\u001b[43m.\u001b[49m\u001b[43mreraise\u001b[49m\u001b[43m(\u001b[49m\u001b[43m)\u001b[49m\n\u001b[32m    421\u001b[39m \u001b[38;5;28;01mraise\u001b[39;00m retry_exc \u001b[38;5;28;01mfrom\u001b[39;00m\u001b[38;5;250m \u001b[39m\u001b[34;01mfut\u001b[39;00m\u001b[34;01m.\u001b[39;00m\u001b[34;01mexception\u001b[39;00m()\n",
            "\u001b[36mFile \u001b[39m\u001b[32m~/git/assistant_with_rag/rag_env/lib/python3.13/site-packages/tenacity/__init__.py:187\u001b[39m, in \u001b[36mRetryError.reraise\u001b[39m\u001b[34m(self)\u001b[39m\n\u001b[32m    185\u001b[39m \u001b[38;5;28;01mdef\u001b[39;00m\u001b[38;5;250m \u001b[39m\u001b[34mreraise\u001b[39m(\u001b[38;5;28mself\u001b[39m) -> t.NoReturn:\n\u001b[32m    186\u001b[39m     \u001b[38;5;28;01mif\u001b[39;00m \u001b[38;5;28mself\u001b[39m.last_attempt.failed:\n\u001b[32m--> \u001b[39m\u001b[32m187\u001b[39m         \u001b[38;5;28;01mraise\u001b[39;00m \u001b[38;5;28;43mself\u001b[39;49m\u001b[43m.\u001b[49m\u001b[43mlast_attempt\u001b[49m\u001b[43m.\u001b[49m\u001b[43mresult\u001b[49m\u001b[43m(\u001b[49m\u001b[43m)\u001b[49m\n\u001b[32m    188\u001b[39m     \u001b[38;5;28;01mraise\u001b[39;00m \u001b[38;5;28mself\u001b[39m\n",
            "\u001b[36mFile \u001b[39m\u001b[32m/opt/homebrew/Cellar/python@3.13/3.13.3/Frameworks/Python.framework/Versions/3.13/lib/python3.13/concurrent/futures/_base.py:449\u001b[39m, in \u001b[36mFuture.result\u001b[39m\u001b[34m(self, timeout)\u001b[39m\n\u001b[32m    447\u001b[39m     \u001b[38;5;28;01mraise\u001b[39;00m CancelledError()\n\u001b[32m    448\u001b[39m \u001b[38;5;28;01melif\u001b[39;00m \u001b[38;5;28mself\u001b[39m._state == FINISHED:\n\u001b[32m--> \u001b[39m\u001b[32m449\u001b[39m     \u001b[38;5;28;01mreturn\u001b[39;00m \u001b[38;5;28;43mself\u001b[39;49m\u001b[43m.\u001b[49m\u001b[43m__get_result\u001b[49m\u001b[43m(\u001b[49m\u001b[43m)\u001b[49m\n\u001b[32m    451\u001b[39m \u001b[38;5;28mself\u001b[39m._condition.wait(timeout)\n\u001b[32m    453\u001b[39m \u001b[38;5;28;01mif\u001b[39;00m \u001b[38;5;28mself\u001b[39m._state \u001b[38;5;129;01min\u001b[39;00m [CANCELLED, CANCELLED_AND_NOTIFIED]:\n",
            "\u001b[36mFile \u001b[39m\u001b[32m/opt/homebrew/Cellar/python@3.13/3.13.3/Frameworks/Python.framework/Versions/3.13/lib/python3.13/concurrent/futures/_base.py:401\u001b[39m, in \u001b[36mFuture.__get_result\u001b[39m\u001b[34m(self)\u001b[39m\n\u001b[32m    399\u001b[39m \u001b[38;5;28;01mif\u001b[39;00m \u001b[38;5;28mself\u001b[39m._exception:\n\u001b[32m    400\u001b[39m     \u001b[38;5;28;01mtry\u001b[39;00m:\n\u001b[32m--> \u001b[39m\u001b[32m401\u001b[39m         \u001b[38;5;28;01mraise\u001b[39;00m \u001b[38;5;28mself\u001b[39m._exception\n\u001b[32m    402\u001b[39m     \u001b[38;5;28;01mfinally\u001b[39;00m:\n\u001b[32m    403\u001b[39m         \u001b[38;5;66;03m# Break a reference cycle with the exception in self._exception\u001b[39;00m\n\u001b[32m    404\u001b[39m         \u001b[38;5;28mself\u001b[39m = \u001b[38;5;28;01mNone\u001b[39;00m\n",
            "\u001b[36mFile \u001b[39m\u001b[32m~/git/assistant_with_rag/rag_env/lib/python3.13/site-packages/tenacity/__init__.py:480\u001b[39m, in \u001b[36mRetrying.__call__\u001b[39m\u001b[34m(self, fn, *args, **kwargs)\u001b[39m\n\u001b[32m    478\u001b[39m \u001b[38;5;28;01mif\u001b[39;00m \u001b[38;5;28misinstance\u001b[39m(do, DoAttempt):\n\u001b[32m    479\u001b[39m     \u001b[38;5;28;01mtry\u001b[39;00m:\n\u001b[32m--> \u001b[39m\u001b[32m480\u001b[39m         result = \u001b[43mfn\u001b[49m\u001b[43m(\u001b[49m\u001b[43m*\u001b[49m\u001b[43margs\u001b[49m\u001b[43m,\u001b[49m\u001b[43m \u001b[49m\u001b[43m*\u001b[49m\u001b[43m*\u001b[49m\u001b[43mkwargs\u001b[49m\u001b[43m)\u001b[49m\n\u001b[32m    481\u001b[39m     \u001b[38;5;28;01mexcept\u001b[39;00m \u001b[38;5;167;01mBaseException\u001b[39;00m:  \u001b[38;5;66;03m# noqa: B902\u001b[39;00m\n\u001b[32m    482\u001b[39m         retry_state.set_exception(sys.exc_info())  \u001b[38;5;66;03m# type: ignore[arg-type]\u001b[39;00m\n",
            "\u001b[36mFile \u001b[39m\u001b[32m~/git/assistant_with_rag/rag_env/lib/python3.13/site-packages/langchain_community/embeddings/yandex.py:168\u001b[39m, in \u001b[36m_embed_with_retry.<locals>._completion_with_retry\u001b[39m\u001b[34m(**_kwargs)\u001b[39m\n\u001b[32m    166\u001b[39m \u001b[38;5;129m@retry_decorator\u001b[39m\n\u001b[32m    167\u001b[39m \u001b[38;5;28;01mdef\u001b[39;00m\u001b[38;5;250m \u001b[39m\u001b[34m_completion_with_retry\u001b[39m(**_kwargs: Any) -> Any:\n\u001b[32m--> \u001b[39m\u001b[32m168\u001b[39m     \u001b[38;5;28;01mreturn\u001b[39;00m \u001b[43m_make_request\u001b[49m\u001b[43m(\u001b[49m\u001b[43mllm\u001b[49m\u001b[43m,\u001b[49m\u001b[43m \u001b[49m\u001b[43m*\u001b[49m\u001b[43m*\u001b[49m\u001b[43m_kwargs\u001b[49m\u001b[43m)\u001b[49m\n",
            "\u001b[36mFile \u001b[39m\u001b[32m~/git/assistant_with_rag/rag_env/lib/python3.13/site-packages/langchain_community/embeddings/yandex.py:208\u001b[39m, in \u001b[36m_make_request\u001b[39m\u001b[34m(self, texts, **kwargs)\u001b[39m\n\u001b[32m    206\u001b[39m request = TextEmbeddingRequest(model_uri=model_uri, text=text)\n\u001b[32m    207\u001b[39m stub = EmbeddingsServiceStub(channel)\n\u001b[32m--> \u001b[39m\u001b[32m208\u001b[39m res = \u001b[43mstub\u001b[49m\u001b[43m.\u001b[49m\u001b[43mTextEmbedding\u001b[49m\u001b[43m(\u001b[49m\u001b[43mrequest\u001b[49m\u001b[43m,\u001b[49m\u001b[43m \u001b[49m\u001b[43mmetadata\u001b[49m\u001b[43m=\u001b[49m\u001b[38;5;28;43mself\u001b[39;49m\u001b[43m.\u001b[49m\u001b[43mgrpc_metadata\u001b[49m\u001b[43m)\u001b[49m  \u001b[38;5;66;03m# type: ignore[attr-defined]\u001b[39;00m\n\u001b[32m    209\u001b[39m result.append(\u001b[38;5;28mlist\u001b[39m(res.embedding))\n\u001b[32m    210\u001b[39m time.sleep(\u001b[38;5;28mself\u001b[39m.sleep_interval)\n",
            "\u001b[36mFile \u001b[39m\u001b[32m~/git/assistant_with_rag/rag_env/lib/python3.13/site-packages/grpc/_channel.py:1181\u001b[39m, in \u001b[36m_UnaryUnaryMultiCallable.__call__\u001b[39m\u001b[34m(self, request, timeout, metadata, credentials, wait_for_ready, compression)\u001b[39m\n\u001b[32m   1166\u001b[39m \u001b[38;5;28;01mdef\u001b[39;00m\u001b[38;5;250m \u001b[39m\u001b[34m__call__\u001b[39m(\n\u001b[32m   1167\u001b[39m     \u001b[38;5;28mself\u001b[39m,\n\u001b[32m   1168\u001b[39m     request: Any,\n\u001b[32m   (...)\u001b[39m\u001b[32m   1173\u001b[39m     compression: Optional[grpc.Compression] = \u001b[38;5;28;01mNone\u001b[39;00m,\n\u001b[32m   1174\u001b[39m ) -> Any:\n\u001b[32m   1175\u001b[39m     (\n\u001b[32m   1176\u001b[39m         state,\n\u001b[32m   1177\u001b[39m         call,\n\u001b[32m   1178\u001b[39m     ) = \u001b[38;5;28mself\u001b[39m._blocking(\n\u001b[32m   1179\u001b[39m         request, timeout, metadata, credentials, wait_for_ready, compression\n\u001b[32m   1180\u001b[39m     )\n\u001b[32m-> \u001b[39m\u001b[32m1181\u001b[39m     \u001b[38;5;28;01mreturn\u001b[39;00m \u001b[43m_end_unary_response_blocking\u001b[49m\u001b[43m(\u001b[49m\u001b[43mstate\u001b[49m\u001b[43m,\u001b[49m\u001b[43m \u001b[49m\u001b[43mcall\u001b[49m\u001b[43m,\u001b[49m\u001b[43m \u001b[49m\u001b[38;5;28;43;01mFalse\u001b[39;49;00m\u001b[43m,\u001b[49m\u001b[43m \u001b[49m\u001b[38;5;28;43;01mNone\u001b[39;49;00m\u001b[43m)\u001b[49m\n",
            "\u001b[36mFile \u001b[39m\u001b[32m~/git/assistant_with_rag/rag_env/lib/python3.13/site-packages/grpc/_channel.py:1006\u001b[39m, in \u001b[36m_end_unary_response_blocking\u001b[39m\u001b[34m(state, call, with_call, deadline)\u001b[39m\n\u001b[32m   1004\u001b[39m         \u001b[38;5;28;01mreturn\u001b[39;00m state.response\n\u001b[32m   1005\u001b[39m \u001b[38;5;28;01melse\u001b[39;00m:\n\u001b[32m-> \u001b[39m\u001b[32m1006\u001b[39m     \u001b[38;5;28;01mraise\u001b[39;00m _InactiveRpcError(state)\n",
            "\u001b[31m_InactiveRpcError\u001b[39m: <_InactiveRpcError of RPC that terminated with:\n\tstatus = StatusCode.UNAUTHENTICATED\n\tdetails = \"Unknown api key 'AQVN****NRfM (BDAB17FB)'\"\n\tdebug_error_string = \"UNKNOWN:Error received from peer ipv4:158.160.54.160:443 {created_time:\"2025-04-13T13:56:34.068812+02:00\", grpc_status:16, grpc_message:\"Unknown api key \\'AQVN****NRfM (BDAB17FB)\\'\"}\"\n>"
          ]
        }
      ],
      "source": [
        "# Загрузка модели для создания эмбеддингов\n",
        "yandex_embedding = YandexGPTEmbeddings(\n",
        "    api_key=YANDEX_API_KEY,\n",
        "    folder_id=YANDEX_FOLDER_ID\n",
        ")\n",
        "\n",
        "# Инициализация векторного хранилища\n",
        "vector_store = QdrantVectorStore(\n",
        "    client=qdrant_client,\n",
        "    collection_name=collection_name,\n",
        "    embedding=yandex_embedding\n",
        ")"
      ]
    },
    {
      "cell_type": "markdown",
      "metadata": {
        "id": "QGXji4UwRpXj"
      },
      "source": [
        "### Добавление базы знаний в векторную БД"
      ]
    },
    {
      "cell_type": "markdown",
      "metadata": {
        "id": "_k-81oCOR_UV"
      },
      "source": [
        "#### Принцип работы модели для создания эмбеддингов"
      ]
    },
    {
      "cell_type": "markdown",
      "metadata": {
        "id": "mjeW19ClTAaH"
      },
      "source": [
        "Искомый текст:"
      ]
    },
    {
      "cell_type": "code",
      "execution_count": null,
      "metadata": {
        "colab": {
          "base_uri": "https://localhost:8080/"
        },
        "id": "fAFQ_TEJSJH7",
        "outputId": "6d3bb517-7681-40ea-d6b2-d7dac9b755ff"
      },
      "outputs": [],
      "source": [
        "text = chunks[0].page_content\n",
        "print(text)"
      ]
    },
    {
      "cell_type": "markdown",
      "metadata": {
        "id": "lMOSMZ-7TDmW"
      },
      "source": [
        "Текст преобразованный в эмбеддинг (векторное представление):"
      ]
    },
    {
      "cell_type": "code",
      "execution_count": null,
      "metadata": {
        "colab": {
          "base_uri": "https://localhost:8080/"
        },
        "id": "uA86FJn1SGa7",
        "outputId": "ee1c172b-4545-469c-fc97-36b1c26ea9bb"
      },
      "outputs": [],
      "source": [
        "print(yandex_embedding.embed_query(text))"
      ]
    },
    {
      "cell_type": "markdown",
      "metadata": {
        "id": "3FJHDD9rTT89"
      },
      "source": [
        "**Добавляем чанки в векторную БД**"
      ]
    },
    {
      "cell_type": "code",
      "execution_count": null,
      "metadata": {
        "colab": {
          "base_uri": "https://localhost:8080/",
          "height": 829
        },
        "id": "8_V8Y4hMTj3v",
        "outputId": "3cc69c4b-3b52-4fb9-96da-e739c79f30c6"
      },
      "outputs": [],
      "source": [
        "vector_store.add_documents(chunks)"
      ]
    },
    {
      "cell_type": "markdown",
      "metadata": {
        "id": "HT-q8oyoUfaN"
      },
      "source": [
        "#### Поиск в векторной БД"
      ]
    },
    {
      "cell_type": "markdown",
      "metadata": {
        "id": "2Q6sEK-Yl9Ex"
      },
      "source": [
        "**Конфигурационные параметры**\n",
        "\n",
        "* `k` - максимальное количетсво возвращаемых валидных чанков. Другими словами - это топ `k` самых близких к запросу чанков.\n",
        "* `query` - пользовательский запрос."
      ]
    },
    {
      "cell_type": "code",
      "execution_count": null,
      "metadata": {
        "id": "NkJ8LufIU1G2"
      },
      "outputs": [],
      "source": [
        "k = 5\n",
        "query = \"Перескажи в краце о чём говорится в предисловии к русскому изданию.\""
      ]
    },
    {
      "cell_type": "markdown",
      "metadata": {
        "id": "kEDBK0FbnSkO"
      },
      "source": [
        "**Поиск валидных чанков**"
      ]
    },
    {
      "cell_type": "code",
      "execution_count": null,
      "metadata": {
        "id": "_ttB9q93Uop2"
      },
      "outputs": [],
      "source": [
        "searching_chunks = vector_store.similarity_search(\n",
        "    query=query,\n",
        "    k=k\n",
        ")"
      ]
    },
    {
      "cell_type": "markdown",
      "metadata": {
        "id": "EHSWhU1enfX4"
      },
      "source": [
        "Топ `k` наиболее близких к запросу чанков"
      ]
    },
    {
      "cell_type": "code",
      "execution_count": null,
      "metadata": {
        "id": "LZ3ZOPjoVXOw"
      },
      "outputs": [],
      "source": [
        "for i, searching_chunk in enumerate(searching_chunks):\n",
        "    print(f'{i + 1}. {searching_chunk.page_content}')"
      ]
    },
    {
      "cell_type": "markdown",
      "metadata": {
        "id": "xidmNBXsWxyq"
      },
      "source": [
        "## Generative"
      ]
    },
    {
      "cell_type": "markdown",
      "metadata": {
        "id": "ZdBojGnQoCEM"
      },
      "source": [
        "**Импорт библиотек**"
      ]
    },
    {
      "cell_type": "code",
      "execution_count": null,
      "metadata": {
        "id": "9ra4YzNKXYqy"
      },
      "outputs": [],
      "source": [
        "from langchain_core.prompts import ChatPromptTemplate\n",
        "from langchain_community.llms import YandexGPT\n",
        "\n",
        "from langchain.chains import create_retrieval_chain\n",
        "from langchain.chains.combine_documents import create_stuff_documents_chain"
      ]
    },
    {
      "cell_type": "markdown",
      "metadata": {
        "id": "TBR1HQdtYOia"
      },
      "source": [
        "**Конфигурационные параметры**\n",
        "* `model_name` - наименование модели\n",
        "* `temperature` - температура - отвечает за степень галлюционирования модели, т.е. добавления в ответы несвязных данных, выбросов и т.д. Данный параметр примимает занчения в промежутке `[0, 1]`\n",
        "* `max_tokens` - максимальное количество токенов, доступных для полного цикла работы модели, т.е. сумма колличества токенов из входного запроса плюс - в ответе. Обыно у моделей данный параметр может принимать различные максимумы, поэтому необходимо читать документацию конкретного экземпляра."
      ]
    },
    {
      "cell_type": "code",
      "execution_count": null,
      "metadata": {
        "id": "7hjNk-3yXWsC"
      },
      "outputs": [],
      "source": [
        "model_name = 'yandexgpt'\n",
        "temperature = 0.7\n",
        "max_tokens = 8000"
      ]
    },
    {
      "cell_type": "markdown",
      "metadata": {
        "id": "z6z1vCp7YI4t"
      },
      "source": [
        "**Загрузка LLM**\n",
        "\n"
      ]
    },
    {
      "cell_type": "code",
      "execution_count": null,
      "metadata": {
        "id": "Zj1cVBywW41L"
      },
      "outputs": [],
      "source": [
        "yandexgpt = YandexGPT(\n",
        "    api_key=YANDEX_API_KEY,\n",
        "    folder_id=YANDEX_FOLDER_ID,\n",
        "    model_name=model_name,\n",
        "    temperature=temperature,\n",
        "    max_tokens=max_tokens\n",
        ")"
      ]
    },
    {
      "cell_type": "markdown",
      "metadata": {
        "id": "XgdZbMX7YS2b"
      },
      "source": [
        "**Создание шаблона запроса**"
      ]
    },
    {
      "cell_type": "code",
      "execution_count": null,
      "metadata": {
        "id": "PtzR1l9_JXCH"
      },
      "outputs": [],
      "source": [
        "system_prompt =\"\"\"\n",
        "**Роль**\n",
        "Ты — DevOps с большим стажем, который недавно написал документацию и не любит долгих разговоров.\n",
        "\n",
        "**Инструкции**\n",
        "1. Используй приведённый контекст для ответа на вопрос.\n",
        "2. Если ты не можешь найти ответ в контексте, так и скажи: 'В документе отсутствуют данные для формирования ответа.', не пытайся придумать ответ.\n",
        "3. Твои высказывания должны быть связными по смыслу и чётко доносить мысль из контекста.\n",
        "4. Сфомируй ответ простым текстом, не более 10 слов.\n",
        "\n",
        "**Контекст**\n",
        "{context}\n",
        "\"\"\""
      ]
    },
    {
      "cell_type": "code",
      "execution_count": null,
      "metadata": {
        "id": "YHMhf63aJ3hf"
      },
      "outputs": [],
      "source": [
        "prompt = ChatPromptTemplate.from_messages(\n",
        "    [\n",
        "        ('system', system_prompt),\n",
        "        ('human', '{input}')\n",
        "    ]\n",
        ")"
      ]
    },
    {
      "cell_type": "markdown",
      "metadata": {
        "id": "AtoGlEGTYmNw"
      },
      "source": [
        "**Финализация RAG pipeline`а**"
      ]
    },
    {
      "cell_type": "code",
      "execution_count": null,
      "metadata": {
        "id": "850XaJfRavFF"
      },
      "outputs": [],
      "source": [
        "question_answer_chain = create_stuff_documents_chain(\n",
        "    yandexgpt,\n",
        "    prompt\n",
        ")\n",
        "\n",
        "chain = create_retrieval_chain(\n",
        "    vector_store.as_retriever(),\n",
        "    question_answer_chain\n",
        ")"
      ]
    },
    {
      "cell_type": "markdown",
      "metadata": {
        "id": "FmOmY8ehZa7w"
      },
      "source": [
        "Отправляем запрос:"
      ]
    },
    {
      "cell_type": "code",
      "execution_count": null,
      "metadata": {
        "colab": {
          "base_uri": "https://localhost:8080/"
        },
        "id": "ZZ3j-269ZqQK",
        "outputId": "18cec9a7-1740-4f28-8b94-7858e7e8285d"
      },
      "outputs": [],
      "source": [
        "print(query)"
      ]
    },
    {
      "cell_type": "code",
      "execution_count": null,
      "metadata": {
        "id": "ygEJ3moWIuAX"
      },
      "outputs": [],
      "source": [
        "answer = chain.invoke({\"input\": query})"
      ]
    },
    {
      "cell_type": "code",
      "execution_count": null,
      "metadata": {
        "colab": {
          "base_uri": "https://localhost:8080/"
        },
        "id": "nhHHudSURe_h",
        "outputId": "8fcac684-4600-44f4-df12-2f8d3a3a5e1d"
      },
      "outputs": [],
      "source": [
        "print(answer[\"answer\"])"
      ]
    },
    {
      "cell_type": "markdown",
      "metadata": {
        "id": "7icduNy1TA2l"
      },
      "source": [
        "### Общение с RAG-ассистентом"
      ]
    },
    {
      "cell_type": "code",
      "execution_count": null,
      "metadata": {
        "id": "z1ZU8DxiTL_g"
      },
      "outputs": [],
      "source": [
        "def get_answer(query):\n",
        "    k = 20\n",
        "\n",
        "    searching_chunks = vector_store.similarity_search(\n",
        "        query=query,\n",
        "        k=k\n",
        "    )\n",
        "\n",
        "    system_prompt =\"\"\"\n",
        "        **Роль**\n",
        "        Ты — DevOps с большим стажем, который недавно написал документацию и не любит долгих разговоров.\n",
        "\n",
        "        **Инструкции**\n",
        "        1. Используй приведённый контекст для ответа на вопрос.\n",
        "        2. Если ты не можешь найти ответ в контексте, так и скажи: 'В документе отсутствуют данные для формирования ответа.', не пытайся придумать ответ.\n",
        "        3. Твои высказывания должны быть связными по смыслу и чётко доносить мысль из контекста.\n",
        "\n",
        "        **Контекст**\n",
        "        {context}\n",
        "    \"\"\"\n",
        "\n",
        "    prompt = ChatPromptTemplate.from_messages(\n",
        "        [\n",
        "            ('system', system_prompt),\n",
        "            ('human', '{input}')\n",
        "        ]\n",
        "    )\n",
        "\n",
        "    question_answer_chain = create_stuff_documents_chain(\n",
        "        yandexgpt,\n",
        "        prompt\n",
        "    )\n",
        "\n",
        "    chain = create_retrieval_chain(\n",
        "        vector_store.as_retriever(),\n",
        "        question_answer_chain\n",
        "    )\n",
        "\n",
        "    answer = chain.invoke({\"input\": query})\n",
        "\n",
        "    return answer[\"answer\"]"
      ]
    },
    {
      "cell_type": "markdown",
      "metadata": {
        "id": "smjJJbO-U0zT"
      },
      "source": [
        "**Пример 1**"
      ]
    },
    {
      "cell_type": "code",
      "execution_count": null,
      "metadata": {
        "id": "72JYf-aNT2EJ"
      },
      "outputs": [],
      "source": [
        "query = \"В чём цель данной книги?\""
      ]
    },
    {
      "cell_type": "code",
      "execution_count": null,
      "metadata": {
        "colab": {
          "base_uri": "https://localhost:8080/"
        },
        "id": "X2mosnLPT20k",
        "outputId": "c0bc365b-404d-415b-947f-b7d5054456c3"
      },
      "outputs": [],
      "source": [
        "print(get_answer(query))"
      ]
    },
    {
      "cell_type": "markdown",
      "metadata": {
        "id": "jW0qnqpnU6Ib"
      },
      "source": [
        "**Пример 2**"
      ]
    },
    {
      "cell_type": "code",
      "execution_count": null,
      "metadata": {
        "id": "xYXERbXtU-f3"
      },
      "outputs": [],
      "source": [
        "query = \"Какие были предпосылки к появлению DevOps, как профессии?\""
      ]
    },
    {
      "cell_type": "code",
      "execution_count": null,
      "metadata": {
        "colab": {
          "base_uri": "https://localhost:8080/"
        },
        "id": "4KXb1I9VVMnN",
        "outputId": "6ced405a-299b-4309-a0a2-3f176ef64d57"
      },
      "outputs": [],
      "source": [
        "print(get_answer(query))"
      ]
    }
  ],
  "metadata": {
    "colab": {
      "gpuType": "T4",
      "provenance": []
    },
    "kernelspec": {
      "display_name": "rag_env",
      "language": "python",
      "name": "python3"
    },
    "language_info": {
      "codemirror_mode": {
        "name": "ipython",
        "version": 3
      },
      "file_extension": ".py",
      "mimetype": "text/x-python",
      "name": "python",
      "nbconvert_exporter": "python",
      "pygments_lexer": "ipython3",
      "version": "3.13.3"
    }
  },
  "nbformat": 4,
  "nbformat_minor": 0
}
